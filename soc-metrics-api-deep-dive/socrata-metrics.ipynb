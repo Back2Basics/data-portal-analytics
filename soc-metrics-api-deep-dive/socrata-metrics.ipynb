{
 "cells": [
  {
   "cell_type": "code",
   "execution_count": 1,
   "metadata": {
    "collapsed": true
   },
   "outputs": [],
   "source": [
    "import csv, json, requests\n",
    "from datetime import datetime\n",
    "import pandas as pd\n",
    "from requests.auth import HTTPBasicAuth\n",
    "import configparser"
   ]
  },
  {
   "cell_type": "code",
   "execution_count": 2,
   "metadata": {
    "collapsed": false
   },
   "outputs": [
    {
     "name": "stdout",
     "output_type": "stream",
     "text": [
      "The number of Socrata resources in this file is 1457.\n"
     ]
    }
   ],
   "source": [
    "# bring in the information about all resources on data.austintexas.gov as of 3 Oct 2016; \n",
    "# file source = socrata resource for admins called \"Dataset of Datasets\", accessed 3 Oct 2016\n",
    "\n",
    "with open('all_views_20161003.csv', mode='r') as infile:\n",
    "    reader = csv.DictReader(infile)\n",
    "    data = []\n",
    "    for row in reader:\n",
    "        data.append(row)\n",
    "# check on the number of records in the file\n",
    "    print(\"The number of Socrata resources in this file is \" + str(len(data)) + \".\")"
   ]
  },
  {
   "cell_type": "code",
   "execution_count": 3,
   "metadata": {
    "collapsed": false
   },
   "outputs": [
    {
     "data": {
      "text/plain": [
       "dict_keys(['Visits', 'Last Update Date (data)', 'Type', 'Creation Date', 'Department', 'Domain', 'Name', 'Downloads', 'U ID', 'Category', 'Owner', 'Keywords', 'ContactEmail', 'Derived View', 'Description', 'Frequency'])"
      ]
     },
     "execution_count": 3,
     "metadata": {},
     "output_type": "execute_result"
    }
   ],
   "source": [
    "# an example of what's in a record\n",
    "data[0].keys()"
   ]
  },
  {
   "cell_type": "code",
   "execution_count": 4,
   "metadata": {
    "collapsed": false
   },
   "outputs": [
    {
     "data": {
      "text/plain": [
       "dict_keys(['Visits', 'Last Update Date (data)', 'Type', 'Creation Date', 'Department', 'Domain', 'Name', 'Downloads', 'U ID', 'Category', 'Owner', 'Keywords', 'ContactEmail', 'Derived View', 'Description', 'Frequency'])"
      ]
     },
     "execution_count": 4,
     "metadata": {},
     "output_type": "execute_result"
    }
   ],
   "source": [
    "# we want to filter out the resources that aren't tables. And we don't want derived views. \n",
    "\n",
    "# let's start looking at our filtering options \n",
    "# find out what kind of information is in the first record:\n",
    "data[0].keys()"
   ]
  },
  {
   "cell_type": "code",
   "execution_count": 5,
   "metadata": {
    "collapsed": false
   },
   "outputs": [
    {
     "data": {
      "text/plain": [
       "array(['chart', 'map', 'table', 'data_lens', 'calendar', 'filter/grouped',\n",
       "       'external dataset', 'story', 'blob'], dtype=object)"
      ]
     },
     "execution_count": 5,
     "metadata": {},
     "output_type": "execute_result"
    }
   ],
   "source": [
    "# that Type item looks like a possibility\n",
    "# let's use pandas to explore the data... it's a little easier.\n",
    "\n",
    "# create a dataframe\n",
    "df = pd.DataFrame(data)\n",
    "\n",
    "# take a look at the values available in the Type column\n",
    "df['Type'].unique()"
   ]
  },
  {
   "cell_type": "code",
   "execution_count": 6,
   "metadata": {
    "collapsed": false
   },
   "outputs": [
    {
     "data": {
      "text/html": [
       "<div>\n",
       "<table border=\"1\" class=\"dataframe\">\n",
       "  <thead>\n",
       "    <tr style=\"text-align: right;\">\n",
       "      <th></th>\n",
       "      <th>U ID</th>\n",
       "    </tr>\n",
       "    <tr>\n",
       "      <th>Type</th>\n",
       "      <th></th>\n",
       "    </tr>\n",
       "  </thead>\n",
       "  <tbody>\n",
       "    <tr>\n",
       "      <th>blob</th>\n",
       "      <td>120</td>\n",
       "    </tr>\n",
       "    <tr>\n",
       "      <th>calendar</th>\n",
       "      <td>3</td>\n",
       "    </tr>\n",
       "    <tr>\n",
       "      <th>chart</th>\n",
       "      <td>349</td>\n",
       "    </tr>\n",
       "    <tr>\n",
       "      <th>data_lens</th>\n",
       "      <td>12</td>\n",
       "    </tr>\n",
       "    <tr>\n",
       "      <th>external dataset</th>\n",
       "      <td>54</td>\n",
       "    </tr>\n",
       "    <tr>\n",
       "      <th>filter/grouped</th>\n",
       "      <td>94</td>\n",
       "    </tr>\n",
       "    <tr>\n",
       "      <th>map</th>\n",
       "      <td>195</td>\n",
       "    </tr>\n",
       "    <tr>\n",
       "      <th>story</th>\n",
       "      <td>188</td>\n",
       "    </tr>\n",
       "    <tr>\n",
       "      <th>table</th>\n",
       "      <td>442</td>\n",
       "    </tr>\n",
       "  </tbody>\n",
       "</table>\n",
       "</div>"
      ],
      "text/plain": [
       "                  U ID\n",
       "Type                  \n",
       "blob               120\n",
       "calendar             3\n",
       "chart              349\n",
       "data_lens           12\n",
       "external dataset    54\n",
       "filter/grouped      94\n",
       "map                195\n",
       "story              188\n",
       "table              442"
      ]
     },
     "execution_count": 6,
     "metadata": {},
     "output_type": "execute_result"
    }
   ],
   "source": [
    "# let's find out how many tables there are\n",
    "df[['Type','U ID']].groupby('Type').count()"
   ]
  },
  {
   "cell_type": "code",
   "execution_count": 7,
   "metadata": {
    "collapsed": false
   },
   "outputs": [
    {
     "data": {
      "text/html": [
       "<div>\n",
       "<table border=\"1\" class=\"dataframe\">\n",
       "  <thead>\n",
       "    <tr style=\"text-align: right;\">\n",
       "      <th></th>\n",
       "      <th>Type</th>\n",
       "    </tr>\n",
       "    <tr>\n",
       "      <th>Derived View</th>\n",
       "      <th></th>\n",
       "    </tr>\n",
       "  </thead>\n",
       "  <tbody>\n",
       "    <tr>\n",
       "      <th>false</th>\n",
       "      <td>442</td>\n",
       "    </tr>\n",
       "  </tbody>\n",
       "</table>\n",
       "</div>"
      ],
      "text/plain": [
       "              Type\n",
       "Derived View      \n",
       "false          442"
      ]
     },
     "execution_count": 7,
     "metadata": {},
     "output_type": "execute_result"
    }
   ],
   "source": [
    "# are any of those table records a derived view? because we don't want derived views.\n",
    "df[['Type', 'Derived View']][df['Type'] == 'table'].groupby('Derived View').count()"
   ]
  },
  {
   "cell_type": "code",
   "execution_count": 9,
   "metadata": {
    "collapsed": false
   },
   "outputs": [
    {
     "name": "stdout",
     "output_type": "stream",
     "text": [
      "442\n"
     ]
    }
   ],
   "source": [
    "# ok. let's get the id values for the 442 table recors so we can build urls to query their visit history\n",
    "\n",
    "b = df[['U ID', 'Type']][df['Type'] == 'table']\n",
    "table_ids = b['U ID'].values\n",
    "print(len(table_ids))"
   ]
  },
  {
   "cell_type": "code",
   "execution_count": 10,
   "metadata": {
    "collapsed": false
   },
   "outputs": [
    {
     "name": "stdout",
     "output_type": "stream",
     "text": [
      "created a list of 442 urls\n"
     ]
    }
   ],
   "source": [
    "# generate the list of urls\n",
    "\n",
    "metrics_urls = []\n",
    "for i in table_ids:\n",
    "    url = 'https://data.austintexas.gov/api/views/' + i + '/metrics.json?start=1451606400000&end=1475539199999'\n",
    "    metrics_urls.append(url)\n",
    "print('created a list of ' + str(len(metrics_urls)) + ' urls')"
   ]
  },
  {
   "cell_type": "code",
   "execution_count": 13,
   "metadata": {
    "collapsed": false
   },
   "outputs": [
    {
     "name": "stdout",
     "output_type": "stream",
     "text": [
      "made 442 api calls.\n"
     ]
    }
   ],
   "source": [
    "# get ready to call the Socrata API. don't store password in the notebook\n",
    "config = configparser.ConfigParser()\n",
    "config.read('secrets.txt')\n",
    "user = config['socrata']['u']\n",
    "password = config['socrata']['p']\n",
    "\n",
    "# make the call for each url in the list. store each response in a dictionary\n",
    "table_metrics_ytd = []\n",
    "for u in metrics_urls:\n",
    "    t = {}\n",
    "    r = requests.get(u, auth=(user, password))\n",
    "    i = u[39:48]\n",
    "    l = 'https://data.austintexas.gov/d/' + i\n",
    "    f = {'fetched_url': u, 'id': i, 'dataset_page_url': l}\n",
    "    d = r.json()\n",
    "    f.update(d)\n",
    "    table_metrics_ytd.append(f)\n",
    "print('made ' + str(len(table_metrics_ytd)) + ' api calls.')"
   ]
  },
  {
   "cell_type": "code",
   "execution_count": 14,
   "metadata": {
    "collapsed": false
   },
   "outputs": [
    {
     "data": {
      "text/plain": [
       "Index(['charts-created', 'charts-created-total', 'charts-deleted',\n",
       "       'charts-deleted-total', 'code', 'comments-created',\n",
       "       'comments-created-total', 'dataset_page_url', 'downloads',\n",
       "       'downloads-total', 'embeds', 'embeds-total', 'error', 'fetched_url',\n",
       "       'filters-created', 'filters-created-total', 'filters-deleted',\n",
       "       'filters-deleted-total', 'govstat-metrics-using',\n",
       "       'govstat-metrics-using-total', 'govstat-total-computes',\n",
       "       'govstat-total-computes-total', 'id', 'maps-created',\n",
       "       'maps-created-total', 'maps-deleted', 'maps-deleted-total', 'message',\n",
       "       'visits', 'visits-total'],\n",
       "      dtype='object')"
      ]
     },
     "execution_count": 14,
     "metadata": {},
     "output_type": "execute_result"
    }
   ],
   "source": [
    "# load the data we just got into a data frame and check it out\n",
    "df2 = pd.DataFrame(table_metrics_ytd)\n",
    "df2.columns"
   ]
  },
  {
   "cell_type": "code",
   "execution_count": 19,
   "metadata": {
    "collapsed": false
   },
   "outputs": [
    {
     "data": {
      "text/plain": [
       "array([nan, 'not_found'], dtype=object)"
      ]
     },
     "execution_count": 19,
     "metadata": {},
     "output_type": "execute_result"
    }
   ],
   "source": [
    "# check to see if any url calls returned an error\n",
    "\n",
    "df2['code'].unique()"
   ]
  },
  {
   "cell_type": "code",
   "execution_count": 20,
   "metadata": {
    "collapsed": false
   },
   "outputs": [
    {
     "data": {
      "text/plain": [
       "array([nan, 'Cannot find view with id fe74-agg3',\n",
       "       'Cannot find view with id 8r2c-upwq',\n",
       "       'Cannot find view with id xqf2-udyn',\n",
       "       'Cannot find view with id 9r6u-h97f',\n",
       "       'Cannot find view with id w4x7-gfja',\n",
       "       'Cannot find view with id 7358-krk7',\n",
       "       'Cannot find view with id daek-f7x4',\n",
       "       ...
       "       'Cannot find view with id x7n3-dc7h'], dtype=object)"
      ]
     },
     "execution_count": 20,
     "metadata": {},
     "output_type": "execute_result"
    }
   ],
   "source": [
    "# rut-roh!\n",
    "\n",
    "df2['message'].unique()"
   ]
  },
  {
   "cell_type": "code",
   "execution_count": 21,
   "metadata": {
    "collapsed": false
   },
   "outputs": [
    {
     "data": {
      "text/html": [
       "<div>\n",
       "<table border=\"1\" class=\"dataframe\">\n",
       "  <thead>\n",
       "    <tr style=\"text-align: right;\">\n",
       "      <th></th>\n",
       "      <th>id</th>\n",
       "    </tr>\n",
       "    <tr>\n",
       "      <th>code</th>\n",
       "      <th></th>\n",
       "    </tr>\n",
       "  </thead>\n",
       "  <tbody>\n",
       "    <tr>\n",
       "      <th>not_found</th>\n",
       "      <td>80</td>\n",
       "    </tr>\n",
       "  </tbody>\n",
       "</table>\n",
       "</div>"
      ],
      "text/plain": [
       "           id\n",
       "code         \n",
       "not_found  80"
      ]
     },
     "execution_count": 21,
     "metadata": {},
     "output_type": "execute_result"
    }
   ],
   "source": [
    "# how many datasets returned an error?\n",
    "df2[['code', 'id']][df2['code'] == 'not_found'].groupby('code').count()"
   ]
  },
  {
   "cell_type": "code",
   "execution_count": 24,
   "metadata": {
    "collapsed": false
   },
   "outputs": [
    {
     "data": {
      "text/plain": [
       "array([['fe74-agg3'], ['8r2c-upwq'], ['xqf2-udyn'], ['9r6u-h97f'], ['w4x7-gfja'], ['7358-krk7'], ['daek-f7x4'], ['avj9-39zb'], ['jir8-be2g'], ['uhvc-ynxd'], ['bc5r-88dy'], ['5nzk-szvg'], ['ezdt-euam'], ['qs9r-eh8x'], ['m5q4-3y3d'], ['4kje-y9af'], ['p7kc-wkbc'], ['tqgd-mf4x'], ['ywgb-2ig8'], ['qyst-3472'], ['3zr8-huug'], ['karz-jr5v'], ['ez4t-k8n4'], ['36qt-hi3h'], ['fhx8-fyu2'], ['yisx-jwus'], ['y5qk-ycha'], ['uf4q-4zh3'], ['put4-j4ni'], ['mkfw-xvtp'], ['kzja-82u7'], ['jady-amz8'], ['555q-48w2'], ['vimt-emci'], ['nywn-y4pr'], ['d4m6-5bq8'], ['qjby-4sji'], ['342j-aqe3'], ['ajmb-qjqw'], ['e68g-thne'], ['p4g8-g35g'], ['qz79-qws3'], ['wj3f-puun'], ['7tg6-n9nk'], ['axjn-4unb'], ['q85w-4dng'], ['94wu-dzfr'], ['xgi3-cehu'], ['6qbh-9cvw'], ['3kiv-qagc'], ['bw8j-s2g8'], ['kvyp-srzj'], ['4bdc-sg8v'], ['c59n-j857'], ['q8kp-me7z'], ['weuz-uypp'], ['p6sy-2wpr'], ['pgsu-xa4f'], ['hkns-jcbd'], ['xpqv-jv4t'], ['p9hw-4p7f'], ['jrvj-r5qx'], ['faw3-drf5'], ['jzpw-7bpd'], ['53pa-m7sm'], ['vfba-b57j'], ['8kwn-yzyi'], ['5tfy-wau8'], ['gd9b-j2sk'], ['jghs-fiqn'], ['r7rg-xryu'], ['qsh8-tby8'], ['xf8u-zfz8'], ['cvjb-eurw'], ['ek6d-qxkv'], ['xdkg-6bx2'], ['yqzs-yaft'], ['pmc3-6ynv'], ['88kx-65ev'], ['x7n3-dc7h']], dtype=object)"
      ]
     },
     "execution_count": 24,
     "metadata": {},
     "output_type": "execute_result"
    }
   ],
   "source": [
    "# make a list of them\n",
    "\n",
    "df2[['id']][df2['code'] == 'not_found'].values"
   ]
  },
  {
   "cell_type": "code",
   "execution_count": 26,
   "metadata": {
    "collapsed": false
   },
   "outputs": [
    {
     "data": {
      "text/plain": [
       "array(['data.austintexas.gov', 'data.texas.gov'], dtype=object)"
      ]
     },
     "execution_count": 26,
     "metadata": {},
     "output_type": "execute_result"
    }
   ],
   "source": [
    "# it looks like our admin \"dataset of datasets\" includes resources that we federate from other places\n",
    "\n",
    "df['Domain'].unique()"
   ]
  },
  {
   "cell_type": "code",
   "execution_count": 30,
   "metadata": {
    "collapsed": false
   },
   "outputs": [
    {
     "name": "stdout",
     "output_type": "stream",
     "text": [
      "79\n"
     ]
    },
    {
     "name": "stderr",
     "output_type": "stream",
     "text": [
      "/Library/Frameworks/Python.framework/Versions/3.4/lib/python3.4/site-packages/pandas/core/frame.py:1997: UserWarning: Boolean Series key will be reindexed to match DataFrame index.\n",
      "  \"DataFrame index.\", UserWarning)\n"
     ]
    }
   ],
   "source": [
    "# let's see if the number of state datasets matches the number of errors we encountered\n",
    "\n",
    "a = df[['U ID', 'Type', 'Domain']][df['Type'] == 'table'][df['Domain'] == 'data.texas.gov']\n",
    "state_table_ids = a['U ID'].values\n",
    "print(len(state_table_ids)) # 79 makes sense"
   ]
  },
  {
   "cell_type": "code",
   "execution_count": 35,
   "metadata": {
    "collapsed": false
   },
   "outputs": [
    {
     "data": {
      "text/plain": [
       "True"
      ]
     },
     "execution_count": 35,
     "metadata": {},
     "output_type": "execute_result"
    }
   ],
   "source": [
    "# now let's drop those results out of our dataframe\n",
    "\n",
    "atx_table_metrics_ytd = []\n",
    "for i in table_metrics_ytd:\n",
    "    if i['id'] not in state_table_ids:\n",
    "        atx_table_metrics_ytd.append(i)\n",
    "len(atx_table_metrics_ytd) + len(state_table_ids) == len(table_metrics_ytd) # it all adds up! hooray"
   ]
  },
  {
   "cell_type": "code",
   "execution_count": 36,
   "metadata": {
    "collapsed": false
   },
   "outputs": [],
   "source": [
    "# write the city metrics to a csv so more people can explore them\n",
    "\n",
    "x = atx_table_metrics_ytd\n",
    "keys = df2.columns\n",
    "with open('table_metrics_ytd.csv', 'w') as output_file:\n",
    "    dict_writer = csv.DictWriter(output_file, keys)\n",
    "    dict_writer.writeheader()\n",
    "    dict_writer.writerows(x)"
   ]
  },
  {
   "cell_type": "code",
   "execution_count": null,
   "metadata": {
    "collapsed": true
   },
   "outputs": [],
   "source": []
  }
 ],
 "metadata": {
  "kernelspec": {
   "display_name": "Python 3",
   "language": "python",
   "name": "python3"
  },
  "language_info": {
   "codemirror_mode": {
    "name": "ipython",
    "version": 3
   },
   "file_extension": ".py",
   "mimetype": "text/x-python",
   "name": "python",
   "nbconvert_exporter": "python",
   "pygments_lexer": "ipython3",
   "version": "3.4.3"
  }
 },
 "nbformat": 4,
 "nbformat_minor": 0
}
