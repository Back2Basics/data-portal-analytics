{
 "cells": [
  {
   "cell_type": "code",
   "execution_count": 1,
   "metadata": {
    "collapsed": true
   },
   "outputs": [],
   "source": [
    "import csv\n",
    "import pandas as pd"
   ]
  },
  {
   "cell_type": "code",
   "execution_count": 3,
   "metadata": {
    "collapsed": false
   },
   "outputs": [],
   "source": [
    "# bring in file downloaded from socrata on 2 nov 2016\n",
    "\n",
    "with open('site_metrics_20161102.csv', mode='r') as infile:\n",
    "    reader = csv.DictReader(infile)\n",
    "    data = []\n",
    "    for row in reader:\n",
    "        data.append(row)"
   ]
  },
  {
   "cell_type": "code",
   "execution_count": 4,
   "metadata": {
    "collapsed": true
   },
   "outputs": [],
   "source": [
    "# load into dataframe so it's easier to analyze\n",
    "\n",
    "df = pd.DataFrame(data)"
   ]
  },
  {
   "cell_type": "code",
   "execution_count": 5,
   "metadata": {
    "collapsed": false
   },
   "outputs": [
    {
     "data": {
      "text/plain": [
       "Index(['End', 'Start', 'app-token-created', 'browser-chrome',\n",
       "       'browser-chrome-0', 'browser-chrome-11', 'browser-chrome-12',\n",
       "       'browser-chrome-18', 'browser-chrome-19', 'browser-chrome-20',\n",
       "       ...\n",
       "       'rows-loaded-website', 'rows-loaded-widget', 'sf-query-cache-hit',\n",
       "       'sf-query-cache-miss', 'sf-query-error-internal', 'sf-query-error-user',\n",
       "       'sf-query-success', 'shares', 'users-created', 'view-loaded'],\n",
       "      dtype='object', length=263)"
      ]
     },
     "execution_count": 5,
     "metadata": {},
     "output_type": "execute_result"
    }
   ],
   "source": [
    "# holy crap there are 263 columns\n",
    "\n",
    "df.columns"
   ]
  },
  {
   "cell_type": "code",
   "execution_count": 6,
   "metadata": {
    "collapsed": false
   },
   "outputs": [
    {
     "data": {
      "text/html": [
       "<div>\n",
       "<table border=\"1\" class=\"dataframe\">\n",
       "  <thead>\n",
       "    <tr style=\"text-align: right;\">\n",
       "      <th></th>\n",
       "      <th>Start</th>\n",
       "      <th>End</th>\n",
       "    </tr>\n",
       "  </thead>\n",
       "  <tbody>\n",
       "    <tr>\n",
       "      <th>0</th>\n",
       "      <td>Fri Jan 01 00:00:00 UTC 2016</td>\n",
       "      <td>Sun Jan 31 23:59:59 UTC 2016</td>\n",
       "    </tr>\n",
       "    <tr>\n",
       "      <th>1</th>\n",
       "      <td>Mon Feb 01 00:00:00 UTC 2016</td>\n",
       "      <td>Mon Feb 29 23:59:59 UTC 2016</td>\n",
       "    </tr>\n",
       "    <tr>\n",
       "      <th>2</th>\n",
       "      <td>Tue Mar 01 00:00:00 UTC 2016</td>\n",
       "      <td>Thu Mar 31 23:59:59 UTC 2016</td>\n",
       "    </tr>\n",
       "    <tr>\n",
       "      <th>3</th>\n",
       "      <td>Fri Apr 01 00:00:00 UTC 2016</td>\n",
       "      <td>Sat Apr 30 23:59:59 UTC 2016</td>\n",
       "    </tr>\n",
       "    <tr>\n",
       "      <th>4</th>\n",
       "      <td>Sun May 01 00:00:00 UTC 2016</td>\n",
       "      <td>Tue May 31 23:59:59 UTC 2016</td>\n",
       "    </tr>\n",
       "    <tr>\n",
       "      <th>5</th>\n",
       "      <td>Wed Jun 01 00:00:00 UTC 2016</td>\n",
       "      <td>Thu Jun 30 23:59:59 UTC 2016</td>\n",
       "    </tr>\n",
       "    <tr>\n",
       "      <th>6</th>\n",
       "      <td>Fri Jul 01 00:00:00 UTC 2016</td>\n",
       "      <td>Sun Jul 31 23:59:59 UTC 2016</td>\n",
       "    </tr>\n",
       "    <tr>\n",
       "      <th>7</th>\n",
       "      <td>Mon Aug 01 00:00:00 UTC 2016</td>\n",
       "      <td>Wed Aug 31 23:59:59 UTC 2016</td>\n",
       "    </tr>\n",
       "    <tr>\n",
       "      <th>8</th>\n",
       "      <td>Thu Sep 01 00:00:00 UTC 2016</td>\n",
       "      <td>Fri Sep 30 23:59:59 UTC 2016</td>\n",
       "    </tr>\n",
       "    <tr>\n",
       "      <th>9</th>\n",
       "      <td>Sat Oct 01 00:00:00 UTC 2016</td>\n",
       "      <td>Mon Oct 31 23:59:59 UTC 2016</td>\n",
       "    </tr>\n",
       "    <tr>\n",
       "      <th>10</th>\n",
       "      <td>Tue Nov 01 00:00:00 UTC 2016</td>\n",
       "      <td>Wed Nov 30 23:59:59 UTC 2016</td>\n",
       "    </tr>\n",
       "  </tbody>\n",
       "</table>\n",
       "</div>"
      ],
      "text/plain": [
       "                           Start                           End\n",
       "0   Fri Jan 01 00:00:00 UTC 2016  Sun Jan 31 23:59:59 UTC 2016\n",
       "1   Mon Feb 01 00:00:00 UTC 2016  Mon Feb 29 23:59:59 UTC 2016\n",
       "2   Tue Mar 01 00:00:00 UTC 2016  Thu Mar 31 23:59:59 UTC 2016\n",
       "3   Fri Apr 01 00:00:00 UTC 2016  Sat Apr 30 23:59:59 UTC 2016\n",
       "4   Sun May 01 00:00:00 UTC 2016  Tue May 31 23:59:59 UTC 2016\n",
       "5   Wed Jun 01 00:00:00 UTC 2016  Thu Jun 30 23:59:59 UTC 2016\n",
       "6   Fri Jul 01 00:00:00 UTC 2016  Sun Jul 31 23:59:59 UTC 2016\n",
       "7   Mon Aug 01 00:00:00 UTC 2016  Wed Aug 31 23:59:59 UTC 2016\n",
       "8   Thu Sep 01 00:00:00 UTC 2016  Fri Sep 30 23:59:59 UTC 2016\n",
       "9   Sat Oct 01 00:00:00 UTC 2016  Mon Oct 31 23:59:59 UTC 2016\n",
       "10  Tue Nov 01 00:00:00 UTC 2016  Wed Nov 30 23:59:59 UTC 2016"
      ]
     },
     "execution_count": 6,
     "metadata": {},
     "output_type": "execute_result"
    }
   ],
   "source": [
    "# each row represents a one month period of site metrics since Jan 1 2016\n",
    "\n",
    "df[['Start', 'End']]"
   ]
  },
  {
   "cell_type": "code",
   "execution_count": 13,
   "metadata": {
    "collapsed": false
   },
   "outputs": [
    {
     "data": {
      "text/plain": [
       "Index(['charts-deleted', 'comments', 'datalens-loaded', 'datasets',\n",
       "       'datasets-created', 'datasets-created-blobby', 'datasets-created-href',\n",
       "       'datasets-created-nbe', 'datasets-created-snapshot', 'datasets-deleted',\n",
       "       'datasets-deleted-blobby', 'datasets-deleted-href',\n",
       "       'datasets-deleted-nbe', 'datasets-deleted-snapshot',\n",
       "       'datasets-published', 'datasets-published-v2', 'datasets-snapshots',\n",
       "       'datasets-snapshots-v2', 'datasets-unpublished',\n",
       "       'datasets-unpublished-v2'],\n",
       "      dtype='object')"
      ]
     },
     "execution_count": 13,
     "metadata": {},
     "output_type": "execute_result"
    }
   ],
   "source": [
    "df.columns[135:155]"
   ]
  },
  {
   "cell_type": "code",
   "execution_count": null,
   "metadata": {
    "collapsed": true
   },
   "outputs": [],
   "source": []
  }
 ],
 "metadata": {
  "kernelspec": {
   "display_name": "Python 3",
   "language": "python",
   "name": "python3"
  },
  "language_info": {
   "codemirror_mode": {
    "name": "ipython",
    "version": 3
   },
   "file_extension": ".py",
   "mimetype": "text/x-python",
   "name": "python",
   "nbconvert_exporter": "python",
   "pygments_lexer": "ipython3",
   "version": "3.4.3"
  }
 },
 "nbformat": 4,
 "nbformat_minor": 0
}
