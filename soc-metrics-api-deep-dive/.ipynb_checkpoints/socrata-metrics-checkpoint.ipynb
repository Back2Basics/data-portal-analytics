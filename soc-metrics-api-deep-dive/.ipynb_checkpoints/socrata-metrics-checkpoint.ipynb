{
 "cells": [
  {
   "cell_type": "code",
   "execution_count": 1,
   "metadata": {
    "collapsed": true
   },
   "outputs": [],
   "source": [
    "import csv, json, requests\n",
    "from datetime import datetime\n",
    "import pandas as pd\n",
    "from requests.auth import HTTPBasicAuth\n",
    "import configparser"
   ]
  },
  {
   "cell_type": "code",
   "execution_count": 2,
   "metadata": {
    "collapsed": false
   },
   "outputs": [
    {
     "name": "stdout",
     "output_type": "stream",
     "text": [
      "The number of Socrata resources in this file is 1457.\n"
     ]
    }
   ],
   "source": [
    "# bring in the information about all resources on data.austintexas.gov as of 3 Oct 2016; \n",
    "# file source = socrata resource for admins called \"Dataset of Datasets\", accessed 3 Oct 2016\n",
    "\n",
    "with open('all_views_20161003.csv', mode='r') as infile:\n",
    "    reader = csv.DictReader(infile)\n",
    "    data = []\n",
    "    for row in reader:\n",
    "        data.append(row)\n",
    "# check on the number of records in the file\n",
    "    print(\"The number of Socrata resources in this file is \" + str(len(data)) + \".\")"
   ]
  },
  {
   "cell_type": "code",
   "execution_count": 3,
   "metadata": {
    "collapsed": false
   },
   "outputs": [
    {
     "data": {
      "text/plain": [
       "dict_keys(['Visits', 'Last Update Date (data)', 'Type', 'Creation Date', 'Department', 'Domain', 'Name', 'Downloads', 'U ID', 'Category', 'Owner', 'Keywords', 'ContactEmail', 'Derived View', 'Description', 'Frequency'])"
      ]
     },
     "execution_count": 3,
     "metadata": {},
     "output_type": "execute_result"
    }
   ],
   "source": [
    "# an example of what's in a record\n",
    "data[0].keys()"
   ]
  },
  {
   "cell_type": "code",
   "execution_count": 4,
   "metadata": {
    "collapsed": false
   },
   "outputs": [
    {
     "data": {
      "text/plain": [
       "dict_keys(['Visits', 'Last Update Date (data)', 'Type', 'Creation Date', 'Department', 'Domain', 'Name', 'Downloads', 'U ID', 'Category', 'Owner', 'Keywords', 'ContactEmail', 'Derived View', 'Description', 'Frequency'])"
      ]
     },
     "execution_count": 4,
     "metadata": {},
     "output_type": "execute_result"
    }
   ],
   "source": [
    "# we want to filter out the resources that aren't tables. And we don't want derived views. \n",
    "\n",
    "# let's start looking at our filtering options \n",
    "# find out what kind of information is in the first record:\n",
    "data[0].keys()"
   ]
  },
  {
   "cell_type": "code",
   "execution_count": 5,
   "metadata": {
    "collapsed": false
   },
   "outputs": [
    {
     "data": {
      "text/plain": [
       "array(['chart', 'map', 'table', 'data_lens', 'calendar', 'filter/grouped',\n",
       "       'external dataset', 'story', 'blob'], dtype=object)"
      ]
     },
     "execution_count": 5,
     "metadata": {},
     "output_type": "execute_result"
    }
   ],
   "source": [
    "# that Type item looks like a possibility\n",
    "# let's use pandas to explore the data... it's a little easier.\n",
    "\n",
    "# create a dataframe\n",
    "df = pd.DataFrame(data)\n",
    "\n",
    "# take a look at the values available in the Type column\n",
    "df['Type'].unique()"
   ]
  },
  {
   "cell_type": "code",
   "execution_count": 6,
   "metadata": {
    "collapsed": false
   },
   "outputs": [
    {
     "data": {
      "text/html": [
       "<div>\n",
       "<table border=\"1\" class=\"dataframe\">\n",
       "  <thead>\n",
       "    <tr style=\"text-align: right;\">\n",
       "      <th></th>\n",
       "      <th>U ID</th>\n",
       "    </tr>\n",
       "    <tr>\n",
       "      <th>Type</th>\n",
       "      <th></th>\n",
       "    </tr>\n",
       "  </thead>\n",
       "  <tbody>\n",
       "    <tr>\n",
       "      <th>blob</th>\n",
       "      <td>120</td>\n",
       "    </tr>\n",
       "    <tr>\n",
       "      <th>calendar</th>\n",
       "      <td>3</td>\n",
       "    </tr>\n",
       "    <tr>\n",
       "      <th>chart</th>\n",
       "      <td>349</td>\n",
       "    </tr>\n",
       "    <tr>\n",
       "      <th>data_lens</th>\n",
       "      <td>12</td>\n",
       "    </tr>\n",
       "    <tr>\n",
       "      <th>external dataset</th>\n",
       "      <td>54</td>\n",
       "    </tr>\n",
       "    <tr>\n",
       "      <th>filter/grouped</th>\n",
       "      <td>94</td>\n",
       "    </tr>\n",
       "    <tr>\n",
       "      <th>map</th>\n",
       "      <td>195</td>\n",
       "    </tr>\n",
       "    <tr>\n",
       "      <th>story</th>\n",
       "      <td>188</td>\n",
       "    </tr>\n",
       "    <tr>\n",
       "      <th>table</th>\n",
       "      <td>442</td>\n",
       "    </tr>\n",
       "  </tbody>\n",
       "</table>\n",
       "</div>"
      ],
      "text/plain": [
       "                  U ID\n",
       "Type                  \n",
       "blob               120\n",
       "calendar             3\n",
       "chart              349\n",
       "data_lens           12\n",
       "external dataset    54\n",
       "filter/grouped      94\n",
       "map                195\n",
       "story              188\n",
       "table              442"
      ]
     },
     "execution_count": 6,
     "metadata": {},
     "output_type": "execute_result"
    }
   ],
   "source": [
    "# let's find out how many tables there are\n",
    "df[['Type','U ID']].groupby('Type').count()"
   ]
  },
  {
   "cell_type": "code",
   "execution_count": 7,
   "metadata": {
    "collapsed": false
   },
   "outputs": [
    {
     "data": {
      "text/html": [
       "<div>\n",
       "<table border=\"1\" class=\"dataframe\">\n",
       "  <thead>\n",
       "    <tr style=\"text-align: right;\">\n",
       "      <th></th>\n",
       "      <th>Type</th>\n",
       "    </tr>\n",
       "    <tr>\n",
       "      <th>Derived View</th>\n",
       "      <th></th>\n",
       "    </tr>\n",
       "  </thead>\n",
       "  <tbody>\n",
       "    <tr>\n",
       "      <th>false</th>\n",
       "      <td>442</td>\n",
       "    </tr>\n",
       "  </tbody>\n",
       "</table>\n",
       "</div>"
      ],
      "text/plain": [
       "              Type\n",
       "Derived View      \n",
       "false          442"
      ]
     },
     "execution_count": 7,
     "metadata": {},
     "output_type": "execute_result"
    }
   ],
   "source": [
    "# are any of those table records a derived view? because we don't want derived views.\n",
    "df[['Type', 'Derived View']][df['Type'] == 'table'].groupby('Derived View').count()"
   ]
  },
  {
   "cell_type": "code",
   "execution_count": 9,
   "metadata": {
    "collapsed": false
   },
   "outputs": [
    {
     "name": "stdout",
     "output_type": "stream",
     "text": [
      "442\n"
     ]
    }
   ],
   "source": [
    "# ok. let's get the id values for the 442 table recors so we can build urls to query their visit history\n",
    "\n",
    "b = df[['U ID', 'Type']][df['Type'] == 'table']\n",
    "table_ids = b['U ID'].values\n",
    "print(len(table_ids))"
   ]
  },
  {
   "cell_type": "code",
   "execution_count": 10,
   "metadata": {
    "collapsed": false
   },
   "outputs": [
    {
     "name": "stdout",
     "output_type": "stream",
     "text": [
      "created a list of 442 urls\n"
     ]
    }
   ],
   "source": [
    "# generate the list of urls\n",
    "\n",
    "metrics_urls = []\n",
    "for i in table_ids:\n",
    "    url = 'https://data.austintexas.gov/api/views/' + i + '/metrics.json?start=1451606400000&end=1475539199999'\n",
    "    metrics_urls.append(url)\n",
    "print('created a list of ' + str(len(metrics_urls)) + ' urls')"
   ]
  },
  {
   "cell_type": "code",
   "execution_count": 13,
   "metadata": {
    "collapsed": false
   },
   "outputs": [
    {
     "name": "stdout",
     "output_type": "stream",
     "text": [
      "made 442 api calls.\n"
     ]
    }
   ],
   "source": [
    "# get ready to call the Socrata API. don't store password in the notebook\n",
    "config = configparser.ConfigParser()\n",
    "config.read('secrets.txt')\n",
    "user = config['socrata']['u']\n",
    "password = config['socrata']['p']\n",
    "\n",
    "# make the call for each url in the list. store each response in a dictionary\n",
    "table_metrics_ytd = []\n",
    "for u in metrics_urls:\n",
    "    t = {}\n",
    "    r = requests.get(u, auth=(user, password))\n",
    "    i = u[39:48]\n",
    "    l = 'https://data.austintexas.gov/d/' + i\n",
    "    f = {'fetched_url': u, 'id': i, 'dataset_page_url': l}\n",
    "    d = r.json()\n",
    "    f.update(d)\n",
    "    table_metrics_ytd.append(f)\n",
    "print('made ' + str(len(table_metrics_ytd)) + ' api calls.')"
   ]
  },
  {
   "cell_type": "code",
   "execution_count": 14,
   "metadata": {
    "collapsed": false
   },
   "outputs": [
    {
     "data": {
      "text/plain": [
       "Index(['charts-created', 'charts-created-total', 'charts-deleted',\n",
       "       'charts-deleted-total', 'code', 'comments-created',\n",
       "       'comments-created-total', 'dataset_page_url', 'downloads',\n",
       "       'downloads-total', 'embeds', 'embeds-total', 'error', 'fetched_url',\n",
       "       'filters-created', 'filters-created-total', 'filters-deleted',\n",
       "       'filters-deleted-total', 'govstat-metrics-using',\n",
       "       'govstat-metrics-using-total', 'govstat-total-computes',\n",
       "       'govstat-total-computes-total', 'id', 'maps-created',\n",
       "       'maps-created-total', 'maps-deleted', 'maps-deleted-total', 'message',\n",
       "       'visits', 'visits-total'],\n",
       "      dtype='object')"
      ]
     },
     "execution_count": 14,
     "metadata": {},
     "output_type": "execute_result"
    }
   ],
   "source": [
    "# load the data we just got into a data frame and check it out\n",
    "df2 = pd.DataFrame(table_metrics_ytd)\n",
    "df2.columns"
   ]
  },
  {
   "cell_type": "code",
   "execution_count": 19,
   "metadata": {
    "collapsed": false
   },
   "outputs": [
    {
     "data": {
      "text/plain": [
       "array([nan, 'not_found'], dtype=object)"
      ]
     },
     "execution_count": 19,
     "metadata": {},
     "output_type": "execute_result"
    }
   ],
   "source": [
    "# check to see if any url calls returned an error\n",
    "\n",
    "df2['code'].unique()"
   ]
  },
  {
   "cell_type": "code",
   "execution_count": 20,
   "metadata": {
    "collapsed": false
   },
   "outputs": [
    {
     "data": {
      "text/plain": [
       "array([nan, 'Cannot find view with id fe74-agg3',\n",
       "       'Cannot find view with id 8r2c-upwq',\n",
       "       'Cannot find view with id xqf2-udyn',\n",
       "       'Cannot find view with id 9r6u-h97f',\n",
       "       'Cannot find view with id w4x7-gfja',\n",
       "       'Cannot find view with id 7358-krk7',\n",
       "       'Cannot find view with id daek-f7x4',\n",
       "       'Cannot find view with id avj9-39zb',\n",
       "       'Cannot find view with id jir8-be2g',\n",
       "       'Cannot find view with id uhvc-ynxd',\n",
       "       'Cannot find view with id bc5r-88dy',\n",
       "       'Cannot find view with id 5nzk-szvg',\n",
       "       'Cannot find view with id ezdt-euam',\n",
       "       'Cannot find view with id qs9r-eh8x',\n",
       "       'Cannot find view with id m5q4-3y3d',\n",
       "       'Cannot find view with id 4kje-y9af',\n",
       "       'Cannot find view with id p7kc-wkbc',\n",
       "       'Cannot find view with id tqgd-mf4x',\n",
       "       'Cannot find view with id ywgb-2ig8',\n",
       "       'Cannot find view with id qyst-3472',\n",
       "       'Cannot find view with id 3zr8-huug',\n",
       "       'Cannot find view with id karz-jr5v',\n",
       "       'Cannot find view with id ez4t-k8n4',\n",
       "       'Cannot find view with id 36qt-hi3h',\n",
       "       'Cannot find view with id fhx8-fyu2',\n",
       "       'Cannot find view with id yisx-jwus',\n",
       "       'Cannot find view with id y5qk-ycha',\n",
       "       'Cannot find view with id uf4q-4zh3',\n",
       "       'Cannot find view with id put4-j4ni',\n",
       "       'Cannot find view with id mkfw-xvtp',\n",
       "       'Cannot find view with id kzja-82u7',\n",
       "       'Cannot find view with id jady-amz8',\n",
       "       'Cannot find view with id 555q-48w2',\n",
       "       'Cannot find view with id vimt-emci',\n",
       "       'Cannot find view with id nywn-y4pr',\n",
       "       'Cannot find view with id d4m6-5bq8',\n",
       "       'Cannot find view with id qjby-4sji',\n",
       "       'Cannot find view with id 342j-aqe3',\n",
       "       'Cannot find view with id ajmb-qjqw',\n",
       "       'Cannot find view with id e68g-thne',\n",
       "       'Cannot find view with id p4g8-g35g',\n",
       "       'Cannot find view with id qz79-qws3',\n",
       "       'Cannot find view with id wj3f-puun',\n",
       "       'Cannot find view with id 7tg6-n9nk',\n",
       "       'Cannot find view with id axjn-4unb',\n",
       "       'Cannot find view with id q85w-4dng',\n",
       "       'Cannot find view with id 94wu-dzfr',\n",
       "       'Cannot find view with id xgi3-cehu',\n",
       "       'Cannot find view with id 6qbh-9cvw',\n",
       "       'Cannot find view with id 3kiv-qagc',\n",
       "       'Cannot find view with id bw8j-s2g8',\n",
       "       'Cannot find view with id kvyp-srzj',\n",
       "       'Cannot find view with id 4bdc-sg8v',\n",
       "       'Cannot find view with id c59n-j857',\n",
       "       'Cannot find view with id q8kp-me7z',\n",
       "       'Cannot find view with id weuz-uypp',\n",
       "       'Cannot find view with id p6sy-2wpr',\n",
       "       'Cannot find view with id pgsu-xa4f',\n",
       "       'Cannot find view with id hkns-jcbd',\n",
       "       'Cannot find view with id xpqv-jv4t',\n",
       "       'Cannot find view with id p9hw-4p7f',\n",
       "       'Cannot find view with id jrvj-r5qx',\n",
       "       'Cannot find view with id faw3-drf5',\n",
       "       'Cannot find view with id jzpw-7bpd',\n",
       "       'Cannot find view with id 53pa-m7sm',\n",
       "       'Cannot find view with id vfba-b57j',\n",
       "       'Cannot find view with id 8kwn-yzyi',\n",
       "       'Cannot find view with id 5tfy-wau8',\n",
       "       'Cannot find view with id gd9b-j2sk',\n",
       "       'Cannot find view with id jghs-fiqn',\n",
       "       'Cannot find view with id r7rg-xryu',\n",
       "       'Cannot find view with id qsh8-tby8',\n",
       "       'Cannot find view with id xf8u-zfz8',\n",
       "       'Cannot find view with id cvjb-eurw',\n",
       "       'Cannot find view with id ek6d-qxkv',\n",
       "       'Cannot find view with id xdkg-6bx2',\n",
       "       'Cannot find view with id yqzs-yaft',\n",
       "       'Cannot find view with id pmc3-6ynv',\n",
       "       'Cannot find view with id 88kx-65ev',\n",
       "       'Cannot find view with id x7n3-dc7h'], dtype=object)"
      ]
     },
     "execution_count": 20,
     "metadata": {},
     "output_type": "execute_result"
    }
   ],
   "source": [
    "# rut-roh!\n",
    "\n",
    "df2['message'].unique()"
   ]
  },
  {
   "cell_type": "code",
   "execution_count": 21,
   "metadata": {
    "collapsed": false
   },
   "outputs": [
    {
     "data": {
      "text/html": [
       "<div>\n",
       "<table border=\"1\" class=\"dataframe\">\n",
       "  <thead>\n",
       "    <tr style=\"text-align: right;\">\n",
       "      <th></th>\n",
       "      <th>id</th>\n",
       "    </tr>\n",
       "    <tr>\n",
       "      <th>code</th>\n",
       "      <th></th>\n",
       "    </tr>\n",
       "  </thead>\n",
       "  <tbody>\n",
       "    <tr>\n",
       "      <th>not_found</th>\n",
       "      <td>80</td>\n",
       "    </tr>\n",
       "  </tbody>\n",
       "</table>\n",
       "</div>"
      ],
      "text/plain": [
       "           id\n",
       "code         \n",
       "not_found  80"
      ]
     },
     "execution_count": 21,
     "metadata": {},
     "output_type": "execute_result"
    }
   ],
   "source": [
    "# how many datasets returned an error?\n",
    "df2[['code', 'id']][df2['code'] == 'not_found'].groupby('code').count()"
   ]
  },
  {
   "cell_type": "code",
   "execution_count": 24,
   "metadata": {
    "collapsed": false
   },
   "outputs": [
    {
     "data": {
      "text/plain": [
       "array([['fe74-agg3'],\n",
       "       ['8r2c-upwq'],\n",
       "       ['xqf2-udyn'],\n",
       "       ['9r6u-h97f'],\n",
       "       ['w4x7-gfja'],\n",
       "       ['7358-krk7'],\n",
       "       ['daek-f7x4'],\n",
       "       ['avj9-39zb'],\n",
       "       ['jir8-be2g'],\n",
       "       ['uhvc-ynxd'],\n",
       "       ['bc5r-88dy'],\n",
       "       ['5nzk-szvg'],\n",
       "       ['ezdt-euam'],\n",
       "       ['qs9r-eh8x'],\n",
       "       ['m5q4-3y3d'],\n",
       "       ['4kje-y9af'],\n",
       "       ['p7kc-wkbc'],\n",
       "       ['tqgd-mf4x'],\n",
       "       ['ywgb-2ig8'],\n",
       "       ['qyst-3472'],\n",
       "       ['3zr8-huug'],\n",
       "       ['karz-jr5v'],\n",
       "       ['ez4t-k8n4'],\n",
       "       ['36qt-hi3h'],\n",
       "       ['fhx8-fyu2'],\n",
       "       ['yisx-jwus'],\n",
       "       ['y5qk-ycha'],\n",
       "       ['uf4q-4zh3'],\n",
       "       ['put4-j4ni'],\n",
       "       ['mkfw-xvtp'],\n",
       "       ['kzja-82u7'],\n",
       "       ['jady-amz8'],\n",
       "       ['555q-48w2'],\n",
       "       ['vimt-emci'],\n",
       "       ['nywn-y4pr'],\n",
       "       ['d4m6-5bq8'],\n",
       "       ['qjby-4sji'],\n",
       "       ['342j-aqe3'],\n",
       "       ['ajmb-qjqw'],\n",
       "       ['e68g-thne'],\n",
       "       ['p4g8-g35g'],\n",
       "       ['qz79-qws3'],\n",
       "       ['wj3f-puun'],\n",
       "       ['7tg6-n9nk'],\n",
       "       ['axjn-4unb'],\n",
       "       ['q85w-4dng'],\n",
       "       ['94wu-dzfr'],\n",
       "       ['xgi3-cehu'],\n",
       "       ['6qbh-9cvw'],\n",
       "       ['3kiv-qagc'],\n",
       "       ['bw8j-s2g8'],\n",
       "       ['kvyp-srzj'],\n",
       "       ['4bdc-sg8v'],\n",
       "       ['c59n-j857'],\n",
       "       ['q8kp-me7z'],\n",
       "       ['weuz-uypp'],\n",
       "       ['p6sy-2wpr'],\n",
       "       ['pgsu-xa4f'],\n",
       "       ['hkns-jcbd'],\n",
       "       ['xpqv-jv4t'],\n",
       "       ['p9hw-4p7f'],\n",
       "       ['jrvj-r5qx'],\n",
       "       ['faw3-drf5'],\n",
       "       ['jzpw-7bpd'],\n",
       "       ['53pa-m7sm'],\n",
       "       ['vfba-b57j'],\n",
       "       ['8kwn-yzyi'],\n",
       "       ['5tfy-wau8'],\n",
       "       ['gd9b-j2sk'],\n",
       "       ['jghs-fiqn'],\n",
       "       ['r7rg-xryu'],\n",
       "       ['qsh8-tby8'],\n",
       "       ['xf8u-zfz8'],\n",
       "       ['cvjb-eurw'],\n",
       "       ['ek6d-qxkv'],\n",
       "       ['xdkg-6bx2'],\n",
       "       ['yqzs-yaft'],\n",
       "       ['pmc3-6ynv'],\n",
       "       ['88kx-65ev'],\n",
       "       ['x7n3-dc7h']], dtype=object)"
      ]
     },
     "execution_count": 24,
     "metadata": {},
     "output_type": "execute_result"
    }
   ],
   "source": [
    "# make a list of them\n",
    "\n",
    "df2[['id']][df2['code'] == 'not_found'].values"
   ]
  },
  {
   "cell_type": "code",
   "execution_count": 18,
   "metadata": {
    "collapsed": false
   },
   "outputs": [],
   "source": [
    "# write the metrics to a csv so more people can explore it\n",
    "\n",
    "x = table_metrics_ytd\n",
    "keys = df2.columns\n",
    "with open('table_metrics_ytd.csv', 'w') as output_file:\n",
    "    dict_writer = csv.DictWriter(output_file, keys)\n",
    "    dict_writer.writeheader()\n",
    "    dict_writer.writerows(x)"
   ]
  },
  {
   "cell_type": "code",
   "execution_count": null,
   "metadata": {
    "collapsed": true
   },
   "outputs": [],
   "source": []
  }
 ],
 "metadata": {
  "kernelspec": {
   "display_name": "Python 3",
   "language": "python",
   "name": "python3"
  },
  "language_info": {
   "codemirror_mode": {
    "name": "ipython",
    "version": 3
   },
   "file_extension": ".py",
   "mimetype": "text/x-python",
   "name": "python",
   "nbconvert_exporter": "python",
   "pygments_lexer": "ipython3",
   "version": "3.4.3"
  }
 },
 "nbformat": 4,
 "nbformat_minor": 0
}
